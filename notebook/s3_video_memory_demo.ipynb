{
 "cells": [
  {
   "cell_type": "markdown",
   "metadata": {},
   "source": [
    "# S3 Video Memory Tool Demo\n",
    "### Intelligent Conversation History with JSON Classification and S3 Vector Storage\n",
    "\n",
    "This notebook demonstrates how to use the S3 Video Memory tool - a mem0_memory-like interface that combines automatic JSON classification with S3 vector storage for intelligent conversation management.\n",
    "\n",
    "**Key Features:**\n",
    "- **Similar to mem0_memory**: store, retrieve, list, delete actions\n",
    "- **Automatic JSON Classification**: Content classified into structured JSON with categories, keywords, sentiment, etc.\n",
    "- **S3 Vector Backend**: Uses S3 Vectors instead of OpenSearch/FAISS/Mem0\n",
    "- **User-Specific Filtering**: Filter conversations by user_id or agent_id\n",
    "- **Semantic Search**: Vector-based similarity search using classified summaries\n",
    "- **Rich Console Output**: Beautiful formatting with confirmation dialogs\n",
    "- **Smart Embeddings**: Generates embeddings from classified summaries for better search\n",
    "\n",
    "**Prerequisites:**\n",
    "- AWS credentials configured\n",
    "- Amazon S3 Vector bucket created\n",
    "- Amazon Bedrock access enabled (for embeddings and classification)\n",
    "- Strands agent with S3 Video Memory tool loaded"
   ]
  },
  {
   "cell_type": "markdown",
   "metadata": {},
   "source": [
    "## 1. Setup and Configuration\n",
    "\n",
    "First, let's set up our environment and configure the necessary parameters."
   ]
  },
  {
   "cell_type": "code",
   "execution_count": 1,
   "metadata": {},
   "outputs": [
    {
     "name": "stdout",
     "output_type": "stream",
     "text": [
      "✅ Environment configured successfully!\n",
      "Vector Bucket: my-vector-bucket-1bf5-fkxn8xdmekn3\n",
      "AWS Region: us-east-2\n",
      "Bypass Consent: true\n"
     ]
    }
   ],
   "source": [
    "# Import necessary libraries\n",
    "import boto3\n",
    "import os\n",
    "import json\n",
    "from datetime import datetime\n",
    "from strands.models import BedrockModel\n",
    "from strands import Agent\n",
    "from s3_video_memory import s3_video_memory\n",
    "\n",
    "AWS_REGION = 'us-east-2'\n",
    "\n",
    "# Environment configuration\n",
    "os.environ['VECTOR_BUCKET_NAME'] = 'my-vector-bucket-1bf5-fkxn8xdmekn3'# Your S3 vector bucket name\n",
    "os.environ['AWS_REGION'] = AWS_REGION  # Your preferred AWS region\n",
    "os.environ['VECTOR_INDEX'] = 'conversation-index'  # Your preferred AWS region\n",
    "os.environ['BYPASS_TOOL_CONSENT'] = 'true'  # Skip confirmations for demo\n",
    "\n",
    "# Configure AWS session for Bedrock access\n",
    "session = boto3.Session(region_name=AWS_REGION)\n",
    "\n",
    "# Initialize Bedrock model for inference\n",
    "bedrock_model = BedrockModel(\n",
    "    model_id=\"us.anthropic.claude-3-5-sonnet-20241022-v2:0\",\n",
    "    boto_session=session\n",
    ")\n",
    "\n",
    "# Initialize Strands agent with S3 Video Memory tool\n",
    "agent = Agent(\n",
    "    tools=[s3_video_memory],\n",
    "    system_prompt=\"You are a helpful assistant with intelligent conversation memory using S3 Video Memory.\",\n",
    "    model=bedrock_model\n",
    ")\n",
    "\n",
    "print(\"✅ Environment configured successfully!\")\n",
    "print(f\"Vector Bucket: {os.environ['VECTOR_BUCKET_NAME']}\")\n",
    "print(f\"AWS Region: {os.environ['AWS_REGION']}\")\n",
    "print(f\"Bypass Consent: {os.environ['BYPASS_TOOL_CONSENT']}\")"
   ]
  },
  {
   "cell_type": "markdown",
   "metadata": {},
   "source": [
    "## 2. Storing Conversations with Automatic Classification\n",
    "\n",
    "Let's demonstrate how the tool automatically classifies content into JSON structure and stores it with user-specific metadata."
   ]
  },
  {
   "cell_type": "code",
   "execution_count": 3,
   "metadata": {},
   "outputs": [
    {
     "name": "stdout",
     "output_type": "stream",
     "text": [
      "🔄 Storing conversations with automatic classification...\n",
      "\n",
      "📝 Storing conversation 1 for user alice123...\n",
      "{'summary': 'Usuario: ¿Qué es el machine learning? Asistente: Machine learning es una rama de la inteligencia artificial que permite a las computadoras aprender y mejorar automáticamente a partir de la experiencia...', 'category': 'otro', 'keywords': [], 'sentiment': 'neutral', 'topics': [], 'importance': 'media', 'context': 'contenido sin clasificar', 'intent': 'desconocido'}\n"
     ]
    },
    {
     "data": {
      "text/html": [
       "<pre style=\"white-space:pre;overflow-x:auto;line-height:normal;font-family:Menlo,'DejaVu Sans Mono',consolas,'Courier New',monospace\"><span style=\"color: #008000; text-decoration-color: #008000\">╭─────────────────────────────────────── </span><span style=\"color: #008000; text-decoration-color: #008000; font-weight: bold\">Memory to store for user alice123</span><span style=\"color: #008000; text-decoration-color: #008000\"> ───────────────────────────────────────╮</span>\n",
       "<span style=\"color: #008000; text-decoration-color: #008000\">│</span> Usuario: ¿Qué es el machine learning? Asistente: Machine learning es una rama de la inteligencia artificial que <span style=\"color: #008000; text-decoration-color: #008000\">│</span>\n",
       "<span style=\"color: #008000; text-decoration-color: #008000\">│</span> permite a las computadoras aprender y mejorar automáticamente a partir de la experiencia sin ser programadas    <span style=\"color: #008000; text-decoration-color: #008000\">│</span>\n",
       "<span style=\"color: #008000; text-decoration-color: #008000\">│</span> explícitamente. Se basa en algoritmos que pueden identificar patrones en datos y hacer predicciones.            <span style=\"color: #008000; text-decoration-color: #008000\">│</span>\n",
       "<span style=\"color: #008000; text-decoration-color: #008000\">╰─────────────────────────────────────────────────────────────────────────────────────────────────────────────────╯</span>\n",
       "</pre>\n"
      ],
      "text/plain": [
       "\u001b[32m╭─\u001b[0m\u001b[32m──────────────────────────────────────\u001b[0m\u001b[32m \u001b[0m\u001b[1;32mMemory to store for user alice123\u001b[0m\u001b[32m \u001b[0m\u001b[32m──────────────────────────────────────\u001b[0m\u001b[32m─╮\u001b[0m\n",
       "\u001b[32m│\u001b[0m Usuario: ¿Qué es el machine learning? Asistente: Machine learning es una rama de la inteligencia artificial que \u001b[32m│\u001b[0m\n",
       "\u001b[32m│\u001b[0m permite a las computadoras aprender y mejorar automáticamente a partir de la experiencia sin ser programadas    \u001b[32m│\u001b[0m\n",
       "\u001b[32m│\u001b[0m explícitamente. Se basa en algoritmos que pueden identificar patrones en datos y hacer predicciones.            \u001b[32m│\u001b[0m\n",
       "\u001b[32m╰─────────────────────────────────────────────────────────────────────────────────────────────────────────────────╯\u001b[0m\n"
      ]
     },
     "metadata": {},
     "output_type": "display_data"
    },
    {
     "name": "stdout",
     "output_type": "stream",
     "text": [
      "{'toolUseId': 'tooluse_s3_video_memory_326842863', 'status': 'success', 'content': [{'text': 'None'}]}\n",
      "✅ Successfully stored conversation 1\n",
      "--------------------------------------------------\n",
      "📝 Storing conversation 2 for user alice123...\n",
      "{'summary': 'Usuario: ¿Cómo funcionan las redes neuronales? Asistente: Las redes neuronales son modelos computacionales inspirados en el funcionamiento del cerebro humano. Están compuestas por nodos interconectado...', 'category': 'otro', 'keywords': [], 'sentiment': 'neutral', 'topics': [], 'importance': 'media', 'context': 'contenido sin clasificar', 'intent': 'desconocido'}\n"
     ]
    },
    {
     "data": {
      "text/html": [
       "<pre style=\"white-space:pre;overflow-x:auto;line-height:normal;font-family:Menlo,'DejaVu Sans Mono',consolas,'Courier New',monospace\"><span style=\"color: #008000; text-decoration-color: #008000\">╭─────────────────────────────────────── </span><span style=\"color: #008000; text-decoration-color: #008000; font-weight: bold\">Memory to store for user alice123</span><span style=\"color: #008000; text-decoration-color: #008000\"> ───────────────────────────────────────╮</span>\n",
       "<span style=\"color: #008000; text-decoration-color: #008000\">│</span> Usuario: ¿Cómo funcionan las redes neuronales? Asistente: Las redes neuronales son modelos computacionales      <span style=\"color: #008000; text-decoration-color: #008000\">│</span>\n",
       "<span style=\"color: #008000; text-decoration-color: #008000\">│</span> inspirados en el funcionamiento del cerebro humano. Están compuestas por nodos interconectados (neuronas        <span style=\"color: #008000; text-decoration-color: #008000\">│</span>\n",
       "<span style=\"color: #008000; text-decoration-color: #008000\">│</span> artificiales) que procesan información a través de conexiones ponderadas, permitiendo el aprendizaje de         <span style=\"color: #008000; text-decoration-color: #008000\">│</span>\n",
       "<span style=\"color: #008000; text-decoration-color: #008000\">│</span> patrones complejos.                                                                                             <span style=\"color: #008000; text-decoration-color: #008000\">│</span>\n",
       "<span style=\"color: #008000; text-decoration-color: #008000\">╰─────────────────────────────────────────────────────────────────────────────────────────────────────────────────╯</span>\n",
       "</pre>\n"
      ],
      "text/plain": [
       "\u001b[32m╭─\u001b[0m\u001b[32m──────────────────────────────────────\u001b[0m\u001b[32m \u001b[0m\u001b[1;32mMemory to store for user alice123\u001b[0m\u001b[32m \u001b[0m\u001b[32m──────────────────────────────────────\u001b[0m\u001b[32m─╮\u001b[0m\n",
       "\u001b[32m│\u001b[0m Usuario: ¿Cómo funcionan las redes neuronales? Asistente: Las redes neuronales son modelos computacionales      \u001b[32m│\u001b[0m\n",
       "\u001b[32m│\u001b[0m inspirados en el funcionamiento del cerebro humano. Están compuestas por nodos interconectados (neuronas        \u001b[32m│\u001b[0m\n",
       "\u001b[32m│\u001b[0m artificiales) que procesan información a través de conexiones ponderadas, permitiendo el aprendizaje de         \u001b[32m│\u001b[0m\n",
       "\u001b[32m│\u001b[0m patrones complejos.                                                                                             \u001b[32m│\u001b[0m\n",
       "\u001b[32m╰─────────────────────────────────────────────────────────────────────────────────────────────────────────────────╯\u001b[0m\n"
      ]
     },
     "metadata": {},
     "output_type": "display_data"
    },
    {
     "name": "stdout",
     "output_type": "stream",
     "text": [
      "{'toolUseId': 'tooluse_s3_video_memory_541518477', 'status': 'success', 'content': [{'text': 'None'}]}\n",
      "✅ Successfully stored conversation 2\n",
      "--------------------------------------------------\n",
      "📝 Storing conversation 3 for user bob456...\n",
      "{'summary': 'Usuario: ¿Qué es Python? Asistente: Python es un lenguaje de programación de alto nivel, interpretado y de propósito general. Se caracteriza por su sintaxis clara y legible, lo que lo hace ideal para ...', 'category': 'otro', 'keywords': [], 'sentiment': 'neutral', 'topics': [], 'importance': 'media', 'context': 'contenido sin clasificar', 'intent': 'desconocido'}\n"
     ]
    },
    {
     "data": {
      "text/html": [
       "<pre style=\"white-space:pre;overflow-x:auto;line-height:normal;font-family:Menlo,'DejaVu Sans Mono',consolas,'Courier New',monospace\"><span style=\"color: #008000; text-decoration-color: #008000\">╭──────────────────────────────────────── </span><span style=\"color: #008000; text-decoration-color: #008000; font-weight: bold\">Memory to store for user bob456</span><span style=\"color: #008000; text-decoration-color: #008000\"> ────────────────────────────────────────╮</span>\n",
       "<span style=\"color: #008000; text-decoration-color: #008000\">│</span> Usuario: ¿Qué es Python? Asistente: Python es un lenguaje de programación de alto nivel, interpretado y de      <span style=\"color: #008000; text-decoration-color: #008000\">│</span>\n",
       "<span style=\"color: #008000; text-decoration-color: #008000\">│</span> propósito general. Se caracteriza por su sintaxis clara y legible, lo que lo hace ideal para principiantes. Es  <span style=\"color: #008000; text-decoration-color: #008000\">│</span>\n",
       "<span style=\"color: #008000; text-decoration-color: #008000\">│</span> ampliamente utilizado en desarrollo web, ciencia de datos, automatización y machine learning.                   <span style=\"color: #008000; text-decoration-color: #008000\">│</span>\n",
       "<span style=\"color: #008000; text-decoration-color: #008000\">╰─────────────────────────────────────────────────────────────────────────────────────────────────────────────────╯</span>\n",
       "</pre>\n"
      ],
      "text/plain": [
       "\u001b[32m╭─\u001b[0m\u001b[32m───────────────────────────────────────\u001b[0m\u001b[32m \u001b[0m\u001b[1;32mMemory to store for user bob456\u001b[0m\u001b[32m \u001b[0m\u001b[32m───────────────────────────────────────\u001b[0m\u001b[32m─╮\u001b[0m\n",
       "\u001b[32m│\u001b[0m Usuario: ¿Qué es Python? Asistente: Python es un lenguaje de programación de alto nivel, interpretado y de      \u001b[32m│\u001b[0m\n",
       "\u001b[32m│\u001b[0m propósito general. Se caracteriza por su sintaxis clara y legible, lo que lo hace ideal para principiantes. Es  \u001b[32m│\u001b[0m\n",
       "\u001b[32m│\u001b[0m ampliamente utilizado en desarrollo web, ciencia de datos, automatización y machine learning.                   \u001b[32m│\u001b[0m\n",
       "\u001b[32m╰─────────────────────────────────────────────────────────────────────────────────────────────────────────────────╯\u001b[0m\n"
      ]
     },
     "metadata": {},
     "output_type": "display_data"
    },
    {
     "name": "stdout",
     "output_type": "stream",
     "text": [
      "{'toolUseId': 'tooluse_s3_video_memory_363515201', 'status': 'success', 'content': [{'text': 'None'}]}\n",
      "✅ Successfully stored conversation 3\n",
      "--------------------------------------------------\n",
      "📝 Storing conversation 4 for user bob456...\n",
      "{'summary': \"Usuario: ¿Cómo creo una función en Python? Asistente: Para crear una función en Python, usa la palabra clave 'def' seguida del nombre de la función y parámetros. Por ejemplo: def saludar(nombre): retu...\", 'category': 'otro', 'keywords': [], 'sentiment': 'neutral', 'topics': [], 'importance': 'media', 'context': 'contenido sin clasificar', 'intent': 'desconocido'}\n"
     ]
    },
    {
     "data": {
      "text/html": [
       "<pre style=\"white-space:pre;overflow-x:auto;line-height:normal;font-family:Menlo,'DejaVu Sans Mono',consolas,'Courier New',monospace\"><span style=\"color: #008000; text-decoration-color: #008000\">╭──────────────────────────────────────── </span><span style=\"color: #008000; text-decoration-color: #008000; font-weight: bold\">Memory to store for user bob456</span><span style=\"color: #008000; text-decoration-color: #008000\"> ────────────────────────────────────────╮</span>\n",
       "<span style=\"color: #008000; text-decoration-color: #008000\">│</span> Usuario: ¿Cómo creo una función en Python? Asistente: Para crear una función en Python, usa la palabra clave    <span style=\"color: #008000; text-decoration-color: #008000\">│</span>\n",
       "<span style=\"color: #008000; text-decoration-color: #008000\">│</span> 'def' seguida del nombre de la función y parámetros. Por ejemplo: def saludar(nombre): return f'Hola,           <span style=\"color: #008000; text-decoration-color: #008000\">│</span>\n",
       "<span style=\"color: #008000; text-decoration-color: #008000\">│</span> {nombre}!'. Las funciones son bloques de código reutilizables que realizan tareas específicas.                  <span style=\"color: #008000; text-decoration-color: #008000\">│</span>\n",
       "<span style=\"color: #008000; text-decoration-color: #008000\">╰─────────────────────────────────────────────────────────────────────────────────────────────────────────────────╯</span>\n",
       "</pre>\n"
      ],
      "text/plain": [
       "\u001b[32m╭─\u001b[0m\u001b[32m───────────────────────────────────────\u001b[0m\u001b[32m \u001b[0m\u001b[1;32mMemory to store for user bob456\u001b[0m\u001b[32m \u001b[0m\u001b[32m───────────────────────────────────────\u001b[0m\u001b[32m─╮\u001b[0m\n",
       "\u001b[32m│\u001b[0m Usuario: ¿Cómo creo una función en Python? Asistente: Para crear una función en Python, usa la palabra clave    \u001b[32m│\u001b[0m\n",
       "\u001b[32m│\u001b[0m 'def' seguida del nombre de la función y parámetros. Por ejemplo: def saludar(nombre): return f'Hola,           \u001b[32m│\u001b[0m\n",
       "\u001b[32m│\u001b[0m {nombre}!'. Las funciones son bloques de código reutilizables que realizan tareas específicas.                  \u001b[32m│\u001b[0m\n",
       "\u001b[32m╰─────────────────────────────────────────────────────────────────────────────────────────────────────────────────╯\u001b[0m\n"
      ]
     },
     "metadata": {},
     "output_type": "display_data"
    },
    {
     "name": "stdout",
     "output_type": "stream",
     "text": [
      "{'toolUseId': 'tooluse_s3_video_memory_997316979', 'status': 'success', 'content': [{'text': 'None'}]}\n",
      "✅ Successfully stored conversation 4\n",
      "--------------------------------------------------\n",
      "📝 Storing conversation 5 for user carlos789...\n",
      "{'summary': 'Usuario: ¿Qué es la computación en la nube? Asistente: La computación en la nube es la entrega de servicios informáticos (servidores, almacenamiento, bases de datos, redes, software) a través de inter...', 'category': 'otro', 'keywords': [], 'sentiment': 'neutral', 'topics': [], 'importance': 'media', 'context': 'contenido sin clasificar', 'intent': 'desconocido'}\n"
     ]
    },
    {
     "data": {
      "text/html": [
       "<pre style=\"white-space:pre;overflow-x:auto;line-height:normal;font-family:Menlo,'DejaVu Sans Mono',consolas,'Courier New',monospace\"><span style=\"color: #008000; text-decoration-color: #008000\">╭────────────────────────────────────── </span><span style=\"color: #008000; text-decoration-color: #008000; font-weight: bold\">Memory to store for user carlos789</span><span style=\"color: #008000; text-decoration-color: #008000\"> ───────────────────────────────────────╮</span>\n",
       "<span style=\"color: #008000; text-decoration-color: #008000\">│</span> Usuario: ¿Qué es la computación en la nube? Asistente: La computación en la nube es la entrega de servicios     <span style=\"color: #008000; text-decoration-color: #008000\">│</span>\n",
       "<span style=\"color: #008000; text-decoration-color: #008000\">│</span> informáticos (servidores, almacenamiento, bases de datos, redes, software) a través de internet. Permite acceso <span style=\"color: #008000; text-decoration-color: #008000\">│</span>\n",
       "<span style=\"color: #008000; text-decoration-color: #008000\">│</span> bajo demanda, escalabilidad y pago por uso, eliminando la necesidad de infraestructura física local.            <span style=\"color: #008000; text-decoration-color: #008000\">│</span>\n",
       "<span style=\"color: #008000; text-decoration-color: #008000\">╰─────────────────────────────────────────────────────────────────────────────────────────────────────────────────╯</span>\n",
       "</pre>\n"
      ],
      "text/plain": [
       "\u001b[32m╭─\u001b[0m\u001b[32m─────────────────────────────────────\u001b[0m\u001b[32m \u001b[0m\u001b[1;32mMemory to store for user carlos789\u001b[0m\u001b[32m \u001b[0m\u001b[32m──────────────────────────────────────\u001b[0m\u001b[32m─╮\u001b[0m\n",
       "\u001b[32m│\u001b[0m Usuario: ¿Qué es la computación en la nube? Asistente: La computación en la nube es la entrega de servicios     \u001b[32m│\u001b[0m\n",
       "\u001b[32m│\u001b[0m informáticos (servidores, almacenamiento, bases de datos, redes, software) a través de internet. Permite acceso \u001b[32m│\u001b[0m\n",
       "\u001b[32m│\u001b[0m bajo demanda, escalabilidad y pago por uso, eliminando la necesidad de infraestructura física local.            \u001b[32m│\u001b[0m\n",
       "\u001b[32m╰─────────────────────────────────────────────────────────────────────────────────────────────────────────────────╯\u001b[0m\n"
      ]
     },
     "metadata": {},
     "output_type": "display_data"
    },
    {
     "name": "stdout",
     "output_type": "stream",
     "text": [
      "{'toolUseId': 'tooluse_s3_video_memory_648814704', 'status': 'success', 'content': [{'text': 'None'}]}\n",
      "✅ Successfully stored conversation 5\n",
      "--------------------------------------------------\n",
      "\n",
      "🎉 Stored 5 conversations successfully!\n",
      "\n",
      "📊 Each conversation was automatically classified with:\n",
      "   - Summary (used for embedding generation)\n",
      "   - Category (conversacion, pregunta, informacion, etc.)\n",
      "   - Keywords extracted from content\n",
      "   - Sentiment analysis\n",
      "   - Topics identification\n",
      "   - Importance level\n",
      "   - Context and intent analysis\n"
     ]
    }
   ],
   "source": [
    "# Sample conversation content for different users\n",
    "conversations = [\n",
    "    {\n",
    "        \"user_id\": \"alice123\",\n",
    "        \"content\": \"Usuario: ¿Qué es el machine learning? Asistente: Machine learning es una rama de la inteligencia artificial que permite a las computadoras aprender y mejorar automáticamente a partir de la experiencia sin ser programadas explícitamente. Se basa en algoritmos que pueden identificar patrones en datos y hacer predicciones.\",\n",
    "        \"session_id\": \"session_001\"\n",
    "    },\n",
    "    {\n",
    "        \"user_id\": \"alice123\",\n",
    "        \"content\": \"Usuario: ¿Cómo funcionan las redes neuronales? Asistente: Las redes neuronales son modelos computacionales inspirados en el funcionamiento del cerebro humano. Están compuestas por nodos interconectados (neuronas artificiales) que procesan información a través de conexiones ponderadas, permitiendo el aprendizaje de patrones complejos.\",\n",
    "        \"session_id\": \"session_002\"\n",
    "    },\n",
    "    {\n",
    "        \"user_id\": \"bob456\",\n",
    "        \"content\": \"Usuario: ¿Qué es Python? Asistente: Python es un lenguaje de programación de alto nivel, interpretado y de propósito general. Se caracteriza por su sintaxis clara y legible, lo que lo hace ideal para principiantes. Es ampliamente utilizado en desarrollo web, ciencia de datos, automatización y machine learning.\",\n",
    "        \"session_id\": \"session_003\"\n",
    "    },\n",
    "    {\n",
    "        \"user_id\": \"bob456\",\n",
    "        \"content\": \"Usuario: ¿Cómo creo una función en Python? Asistente: Para crear una función en Python, usa la palabra clave 'def' seguida del nombre de la función y parámetros. Por ejemplo: def saludar(nombre): return f'Hola, {nombre}!'. Las funciones son bloques de código reutilizables que realizan tareas específicas.\",\n",
    "        \"session_id\": \"session_004\"\n",
    "    },\n",
    "    {\n",
    "        \"user_id\": \"carlos789\",\n",
    "        \"content\": \"Usuario: ¿Qué es la computación en la nube? Asistente: La computación en la nube es la entrega de servicios informáticos (servidores, almacenamiento, bases de datos, redes, software) a través de internet. Permite acceso bajo demanda, escalabilidad y pago por uso, eliminando la necesidad de infraestructura física local.\",\n",
    "        \"session_id\": \"session_005\"\n",
    "    }\n",
    "]\n",
    "\n",
    "# Store each conversation with automatic JSON classification\n",
    "print(\"🔄 Storing conversations with automatic classification...\\n\")\n",
    "\n",
    "stored_memories = []\n",
    "for i, conv in enumerate(conversations):\n",
    "    print(f\"📝 Storing conversation {i+1} for user {conv['user_id']}...\")\n",
    "    \n",
    "    result = agent.tool.s3_video_memory(\n",
    "        action=\"store\",\n",
    "        content=conv[\"content\"],\n",
    "        user_id=conv[\"user_id\"],\n",
    "        metadata={\n",
    "            \"session_id\": conv[\"session_id\"],\n",
    "            \"stored_at\": datetime.now().isoformat()\n",
    "        }\n",
    "    )\n",
    "    print(result)\n",
    "    \n",
    "    if result[\"status\"] == \"success\":\n",
    "        print(f\"✅ Successfully stored conversation {i+1}\")\n",
    "        stored_memories.append(result)\n",
    "    else:\n",
    "        print(f\"❌ Failed to store conversation {i+1}: {result.get('content', [{}])[0].get('text', 'Unknown error')}\")\n",
    "    \n",
    "    print(\"-\" * 50)\n",
    "\n",
    "print(f\"\\n🎉 Stored {len(stored_memories)} conversations successfully!\")\n",
    "print(\"\\n📊 Each conversation was automatically classified with:\")\n",
    "print(\"   - Summary (used for embedding generation)\")\n",
    "print(\"   - Category (conversacion, pregunta, informacion, etc.)\")\n",
    "print(\"   - Keywords extracted from content\")\n",
    "print(\"   - Sentiment analysis\")\n",
    "print(\"   - Topics identification\")\n",
    "print(\"   - Importance level\")\n",
    "print(\"   - Context and intent analysis\")"
   ]
  },
  {
   "cell_type": "markdown",
   "metadata": {},
   "source": [
    "## 3. Semantic Search with User Filtering\n",
    "\n",
    "Now let's demonstrate how to search for relevant conversations using semantic search, filtered by specific users."
   ]
  },
  {
   "cell_type": "code",
   "execution_count": 7,
   "metadata": {},
   "outputs": [],
   "source": [
    "def search_user_conversations(user_id: str, query: str, top_k: int = 3):\n",
    "    \"\"\"\n",
    "    Search for conversations specific to a user using semantic search\n",
    "    \n",
    "    Args:\n",
    "        user_id: The user ID to filter conversations\n",
    "        query: The search query\n",
    "        top_k: Number of results to return\n",
    "    \"\"\"\n",
    "    print(f\"\\n🔍 Searching conversations for user '{user_id}' with query: '{query}'\")\n",
    "    print(f\"   Top {top_k} results, minimum score: 0.7\")\n",
    "    \n",
    "    result = agent.tool.s3_video_memory(\n",
    "        action=\"retrieve\",\n",
    "        query=query,\n",
    "        user_id=user_id,\n",
    "        top_k=top_k,\n",
    "        min_score=0.7\n",
    "    )\n",
    "    \n",
    "    if result[\"status\"] == \"success\":\n",
    "        print(f\"✅ Search completed successfully\")\n",
    "        print(f\"   Results are displayed above with rich formatting\")\n",
    "        \n",
    "        # Parse the JSON response to show additional details\n",
    "        try:\n",
    "            memories = json.loads(result[\"content\"][0][\"text\"])\n",
    "            print(f\"\\n📈 Search Analytics:\")\n",
    "            print(f\"   - Total results found: {len(memories)}\")\n",
    "            \n",
    "            if memories:\n",
    "                avg_score = sum(m[\"score\"] for m in memories) / len(memories)\n",
    "                print(f\"   - Average relevance score: {avg_score:.3f}\")\n",
    "                print(f\"   - Best match score: {max(m[\"score\"] for m in memories):.3f}\")\n",
    "                \n",
    "                categories = [m[\"metadata\"][\"category\"] for m in memories if m[\"metadata\"].get(\"category\")]\n",
    "                if categories:\n",
    "                    print(f\"   - Categories found: {', '.join(set(categories))}\")\n",
    "            else:\n",
    "                print(f\"   - No results met the minimum score threshold\")\n",
    "                \n",
    "        except (json.JSONDecodeError, KeyError) as e:\n",
    "            print(f\"   - Could not parse detailed analytics: {e}\")\n",
    "    else:\n",
    "        print(f\"❌ Search failed: {result.get('content', [{}])[0].get('text', 'Unknown error')}\")\n",
    "    \n",
    "    return result\n",
    "\n"
   ]
  },
  {
   "cell_type": "code",
   "execution_count": 2,
   "metadata": {},
   "outputs": [
    {
     "name": "stdout",
     "output_type": "stream",
     "text": [
      "🎯 Testing semantic search scenarios...\n",
      "\n"
     ]
    },
    {
     "ename": "NameError",
     "evalue": "name 'search_user_conversations' is not defined",
     "output_type": "error",
     "traceback": [
      "\u001b[31m---------------------------------------------------------------------------\u001b[39m",
      "\u001b[31mNameError\u001b[39m                                 Traceback (most recent call last)",
      "\u001b[36mCell\u001b[39m\u001b[36m \u001b[39m\u001b[32mIn[2]\u001b[39m\u001b[32m, line 15\u001b[39m\n\u001b[32m     12\u001b[39m \u001b[38;5;28mprint\u001b[39m(\u001b[33m\"\u001b[39m\u001b[33m🎯 Testing semantic search scenarios...\u001b[39m\u001b[38;5;130;01m\\n\u001b[39;00m\u001b[33m\"\u001b[39m)\n\u001b[32m     14\u001b[39m \u001b[38;5;28;01mfor\u001b[39;00m user_id, query \u001b[38;5;129;01min\u001b[39;00m search_scenarios:\n\u001b[32m---> \u001b[39m\u001b[32m15\u001b[39m     \u001b[43msearch_user_conversations\u001b[49m(user_id, query, top_k=\u001b[32m2\u001b[39m)\n\u001b[32m     16\u001b[39m     \u001b[38;5;28mprint\u001b[39m(\u001b[33m\"\u001b[39m\u001b[38;5;130;01m\\n\u001b[39;00m\u001b[33m\"\u001b[39m + \u001b[33m\"\u001b[39m\u001b[33m=\u001b[39m\u001b[33m\"\u001b[39m*\u001b[32m80\u001b[39m + \u001b[33m\"\u001b[39m\u001b[38;5;130;01m\\n\u001b[39;00m\u001b[33m\"\u001b[39m)\n",
      "\u001b[31mNameError\u001b[39m: name 'search_user_conversations' is not defined"
     ]
    }
   ],
   "source": [
    "# Test semantic search for different users and topics\n",
    "search_scenarios = [\n",
    "    (\"alice123\", \"inteligencia artificial y aprendizaje automático\"),\n",
    "    (\"alice123\", \"redes neuronales y deep learning\"),\n",
    "    (\"bob456\", \"programación en Python\"),\n",
    "    (\"bob456\", \"crear funciones y código\"),\n",
    "    (\"carlos789\", \"servicios en la nube\"),\n",
    "    (\"alice123\", \"algoritmos de machine learning\"),  # Cross-topic search\n",
    "    (\"bob456\", \"desarrollo de software\"),  # Broader search\n",
    "]\n",
    "\n",
    "print(\"🎯 Testing semantic search scenarios...\\n\")\n",
    "\n",
    "for user_id, query in search_scenarios:\n",
    "    search_user_conversations(user_id, query, top_k=2)\n",
    "    print(\"\\n\" + \"=\"*80 + \"\\n\")"
   ]
  },
  {
   "cell_type": "markdown",
   "metadata": {},
   "source": [
    "## 4. Context-Aware Response Generation\n",
    "\n",
    "Let's demonstrate how to use the stored conversation history to generate context-aware responses."
   ]
  },
  {
   "cell_type": "code",
   "execution_count": null,
   "metadata": {},
   "outputs": [],
   "source": [
    "def generate_context_aware_response(user_id: str, new_query: str):\n",
    "    \"\"\"\n",
    "    Generate a context-aware response using conversation history\n",
    "    \n",
    "    Args:\n",
    "        user_id: The user ID\n",
    "        new_query: The new query from the user\n",
    "    \"\"\"\n",
    "    print(f\"\\n🤖 Generating context-aware response for user: {user_id}\")\n",
    "    print(f\"   New query: '{new_query}'\")\n",
    "    \n",
    "    # Step 1: Search for relevant conversation history\n",
    "    print(f\"\\n🔍 Searching for relevant conversation history...\")\n",
    "    \n",
    "    history_result = agent.tool.s3_video_memory(\n",
    "        action=\"retrieve\",\n",
    "        query=new_query,\n",
    "        user_id=user_id,\n",
    "        top_k=3,\n",
    "        min_score=0.6\n",
    "    )\n",
    "    \n",
    "    context_available = False\n",
    "    context_summary = \"\"\n",
    "    \n",
    "    if history_result[\"status\"] == \"success\":\n",
    "        try:\n",
    "            memories = json.loads(history_result[\"content\"][0][\"text\"])\n",
    "            \n",
    "            if memories:\n",
    "                context_available = True\n",
    "                print(f\"   ✅ Found {len(memories)} relevant past conversations\")\n",
    "                \n",
    "                # Build context summary\n",
    "                context_items = []\n",
    "                for i, memory in enumerate(memories, 1):\n",
    "                    metadata = memory[\"metadata\"]\n",
    "                    context_items.append(f\"{i}. {metadata.get('category', 'N/A')} - {memory['memory'][:100]}...\")\n",
    "                    \n",
    "                context_summary = \"\\n\".join(context_items)\n",
    "                \n",
    "                print(f\"\\n   📚 Context Summary:\")\n",
    "                for memory in memories:\n",
    "                    metadata = memory[\"metadata\"]\n",
    "                    print(f\"      - Category: {metadata.get('category')}\")\n",
    "                    print(f\"        Keywords: {', '.join(metadata.get('keywords', []))}\")\n",
    "                    print(f\"        Relevance: {memory['score']:.3f}\")\n",
    "                    print(f\"        Summary: {memory['memory'][:80]}...\")\n",
    "                    print()\n",
    "            else:\n",
    "                print(f\"   ℹ️ No relevant conversation history found\")\n",
    "        except Exception as e:\n",
    "            print(f\"   ❌ Error processing history: {e}\")\n",
    "    else:\n",
    "        print(f\"   ❌ Failed to search history\")\n",
    "    \n",
    "    # Step 2: Generate response strategy\n",
    "    print(f\"\\n💡 Response Strategy:\")\n",
    "    \n",
    "    if context_available:\n",
    "        print(f\"   🎯 Context-aware response approach:\")\n",
    "        print(f\"      - Reference previous discussions\")\n",
    "        print(f\"      - Build upon existing knowledge\")\n",
    "        print(f\"      - Provide advanced or related information\")\n",
    "        print(f\"      - Use personalized examples\")\n",
    "        \n",
    "        # Simulate storing the context-aware response\n",
    "        response_content = f\"Usuario: {new_query} Asistente: [Respuesta contextual basada en historial previo sobre {', '.join(set(m['metadata'].get('category', 'N/A') for m in memories))}]\"\n",
    "    else:\n",
    "        print(f\"   🌱 Fresh start approach:\")\n",
    "        print(f\"      - Provide comprehensive introduction\")\n",
    "        print(f\"      - Start with fundamental concepts\")\n",
    "        print(f\"      - Offer to explain basics\")\n",
    "        print(f\"      - Suggest related topics\")\n",
    "        \n",
    "        # Simulate storing the fresh response\n",
    "        response_content = f\"Usuario: {new_query} Asistente: [Respuesta completa e introductoria]\"\n",
    "    \n",
    "    # Step 3: Store the new conversation\n",
    "    print(f\"\\n💾 Storing new conversation...\")\n",
    "    \n",
    "    store_result = agent.tool.s3_video_memory(\n",
    "        action=\"store\",\n",
    "        content=response_content,\n",
    "        user_id=user_id,\n",
    "        metadata={\n",
    "            \"has_context\": \"yes\" if context_available else \"no\",\n",
    "            \"context_count\": len(memories) if context_available else 0,\n",
    "            \"query_type\": \"follow_up\" if context_available else \"initial\",\n",
    "            \"session_id\": f\"demo_session_{datetime.now().strftime('%Y%m%d_%H%M%S')}\"\n",
    "        }\n",
    "    )\n",
    "    \n",
    "    if store_result[\"status\"] == \"success\":\n",
    "        print(f\"   ✅ New conversation stored successfully\")\n",
    "    else:\n",
    "        print(f\"   ❌ Failed to store new conversation\")\n",
    "    \n",
    "    return {\n",
    "        \"context_available\": context_available,\n",
    "        \"context_summary\": context_summary,\n",
    "        \"response_stored\": store_result[\"status\"] == \"success\"\n",
    "    }\n",
    "\n",
    "# Test context-aware responses\n",
    "context_test_scenarios = [\n",
    "    (\"alice123\", \"¿Qué es deep learning?\"),  # Should find ML context\n",
    "    (\"alice123\", \"¿Cómo se entrenan los modelos?\"),  # Should find neural network context\n",
    "    (\"bob456\", \"¿Qué son las librerías de Python?\"),  # Should find Python context\n",
    "    (\"bob456\", \"¿Cómo hacer debugging?\"),  # Should find programming context\n",
    "    (\"carlos789\", \"¿Qué es DevOps?\"),  # Should find cloud context\n",
    "    (\"carlos789\", \"¿Qué es blockchain?\"),  # No context - new topic\n",
    "]\n",
    "\n",
    "print(\"🎯 Testing context-aware response generation...\\n\")\n",
    "\n",
    "for user_id, query in context_test_scenarios:\n",
    "    result = generate_context_aware_response(user_id, query)\n",
    "    print(f\"\\n📊 Result: Context {'available' if result['context_available'] else 'not available'}\")\n",
    "    print(\"\\n\" + \"=\"*80 + \"\\n\")"
   ]
  },
  {
   "cell_type": "code",
   "execution_count": null,
   "metadata": {},
   "outputs": [],
   "source": []
  }
 ],
 "metadata": {
  "kernelspec": {
   "display_name": ".venv",
   "language": "python",
   "name": "python3"
  },
  "language_info": {
   "codemirror_mode": {
    "name": "ipython",
    "version": 3
   },
   "file_extension": ".py",
   "mimetype": "text/x-python",
   "name": "python",
   "nbconvert_exporter": "python",
   "pygments_lexer": "ipython3",
   "version": "3.12.11"
  }
 },
 "nbformat": 4,
 "nbformat_minor": 4
}
